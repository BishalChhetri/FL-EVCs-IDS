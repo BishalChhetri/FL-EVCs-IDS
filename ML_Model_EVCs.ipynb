{
 "cells": [
  {
   "cell_type": "code",
   "execution_count": 2,
   "metadata": {
    "executionInfo": {
     "elapsed": 122,
     "status": "ok",
     "timestamp": 1731539062456,
     "user": {
      "displayName": "Bishal KC",
      "userId": "17083063275206021141"
     },
     "user_tz": -345
    },
    "id": "1qXmyd18EoMV"
   },
   "outputs": [],
   "source": [
    "import seaborn as sns\n",
    "import matplotlib.pyplot as plt\n",
    "from pandas.api.types import is_numeric_dtype\n",
    "import warnings\n",
    "from sklearn import tree\n",
    "from sklearn.model_selection import train_test_split, cross_val_score\n",
    "from sklearn.neighbors import KNeighborsClassifier\n",
    "from sklearn.linear_model import LogisticRegression\n",
    "from sklearn.preprocessing import StandardScaler,LabelEncoder\n",
    "from sklearn.tree import DecisionTreeClassifier\n",
    "from sklearn.ensemble import RandomForestClassifier\n",
    "from sklearn.svm import SVC, LinearSVC\n",
    "from sklearn.feature_selection import RFE\n",
    "import itertools\n",
    "from tabulate import tabulate\n",
    "from sklearn.metrics import confusion_matrix, classification_report, f1_score, accuracy_score, precision_score, recall_score\n",
    "from termcolor import colored as cl\n",
    "import tensorflow as tf\n",
    "import pandas as pd\n",
    "import numpy as np\n",
    "from sklearn.ensemble import HistGradientBoostingClassifier\n",
    "from sklearn.impute import SimpleImputer\n",
    "from keras.models import Sequential\n",
    "from keras.layers import Conv2D, MaxPooling2D, Flatten, Dense, Input\n",
    "from keras.utils import to_categorical\n",
    "from keras.regularizers import l2\n",
    "from sklearn.svm import SVC\n",
    "from sklearn.ensemble import VotingClassifier\n",
    "from sklearn.pipeline import make_pipeline\n",
    "from imblearn.over_sampling import SMOTE"
   ]
  },
  {
   "cell_type": "code",
   "execution_count": 3,
   "metadata": {
    "colab": {
     "base_uri": "https://localhost:8080/"
    },
    "executionInfo": {
     "elapsed": 137,
     "status": "ok",
     "timestamp": 1731539063719,
     "user": {
      "displayName": "Bishal KC",
      "userId": "17083063275206021141"
     },
     "user_tz": -345
    },
    "id": "cKioGRQB6aFR",
    "outputId": "a49805e5-d96c-4c13-fec9-07bad60ab0fc"
   },
   "outputs": [
    {
     "name": "stdout",
     "output_type": "stream",
     "text": [
      "2.10.1\n"
     ]
    }
   ],
   "source": [
    "print(tf.__version__)"
   ]
  },
  {
   "cell_type": "code",
   "execution_count": 4,
   "metadata": {
    "executionInfo": {
     "elapsed": 785,
     "status": "ok",
     "timestamp": 1731539066400,
     "user": {
      "displayName": "Bishal KC",
      "userId": "17083063275206021141"
     },
     "user_tz": -345
    },
    "id": "5b8lt1g76nGP"
   },
   "outputs": [
    {
     "name": "stderr",
     "output_type": "stream",
     "text": [
      "C:\\Users\\bk022\\AppData\\Local\\Temp\\ipykernel_11804\\1194973390.py:1: DtypeWarning: Columns (264,875) have mixed types. Specify dtype option on import or set low_memory=False.\n",
      "  data = pd.read_csv('./data/EVSE_augmented_1.5.csv')\n"
     ]
    }
   ],
   "source": [
    "data = pd.read_csv('./data/EVSE_augmented_1.5.csv')"
   ]
  },
  {
   "cell_type": "code",
   "execution_count": 5,
   "metadata": {
    "colab": {
     "base_uri": "https://localhost:8080/",
     "height": 367
    },
    "executionInfo": {
     "elapsed": 2610,
     "status": "ok",
     "timestamp": 1731539069213,
     "user": {
      "displayName": "Bishal KC",
      "userId": "17083063275206021141"
     },
     "user_tz": -345
    },
    "id": "0XBRKqL66rZR",
    "outputId": "f2377c34-16e3-47a2-9a5e-565aa4373360"
   },
   "outputs": [
    {
     "data": {
      "text/html": [
       "<div>\n",
       "<style scoped>\n",
       "    .dataframe tbody tr th:only-of-type {\n",
       "        vertical-align: middle;\n",
       "    }\n",
       "\n",
       "    .dataframe tbody tr th {\n",
       "        vertical-align: top;\n",
       "    }\n",
       "\n",
       "    .dataframe thead th {\n",
       "        text-align: right;\n",
       "    }\n",
       "</style>\n",
       "<table border=\"1\" class=\"dataframe\">\n",
       "  <thead>\n",
       "    <tr style=\"text-align: right;\">\n",
       "      <th></th>\n",
       "      <th>time</th>\n",
       "      <th>alarmtimer_alarmtimer_cancel</th>\n",
       "      <th>alarmtimer_alarmtimer_fired</th>\n",
       "      <th>alarmtimer_alarmtimer_start</th>\n",
       "      <th>alarmtimer_alarmtimer_suspend</th>\n",
       "      <th>alignment-faults</th>\n",
       "      <th>ase_spec</th>\n",
       "      <th>block_block_bio_backmerge</th>\n",
       "      <th>block_block_bio_bounce</th>\n",
       "      <th>block_block_bio_complete</th>\n",
       "      <th>...</th>\n",
       "      <th>writeback_writeback_sb_inodes_requeue</th>\n",
       "      <th>writeback_writeback_single_inode</th>\n",
       "      <th>writeback_writeback_single_inode_start</th>\n",
       "      <th>writeback_writeback_start</th>\n",
       "      <th>writeback_writeback_wait</th>\n",
       "      <th>writeback_writeback_wait_iff_congested</th>\n",
       "      <th>writeback_writeback_wake_background</th>\n",
       "      <th>writeback_writeback_write_inode</th>\n",
       "      <th>writeback_writeback_write_inode_start</th>\n",
       "      <th>writeback_writeback_written</th>\n",
       "    </tr>\n",
       "  </thead>\n",
       "  <tbody>\n",
       "    <tr>\n",
       "      <th>count</th>\n",
       "      <td>12702.000000</td>\n",
       "      <td>12702.0</td>\n",
       "      <td>12702.0</td>\n",
       "      <td>12702.0</td>\n",
       "      <td>12702.0</td>\n",
       "      <td>12702.0</td>\n",
       "      <td>1.270200e+04</td>\n",
       "      <td>12702.000000</td>\n",
       "      <td>12702.0</td>\n",
       "      <td>12702.0</td>\n",
       "      <td>...</td>\n",
       "      <td>12702.0</td>\n",
       "      <td>12702.0</td>\n",
       "      <td>12702.0</td>\n",
       "      <td>12702.0</td>\n",
       "      <td>12702.0</td>\n",
       "      <td>12702.0</td>\n",
       "      <td>12702.0</td>\n",
       "      <td>12702.0</td>\n",
       "      <td>12702.0</td>\n",
       "      <td>12702.0</td>\n",
       "    </tr>\n",
       "    <tr>\n",
       "      <th>mean</th>\n",
       "      <td>2164.277443</td>\n",
       "      <td>0.0</td>\n",
       "      <td>0.0</td>\n",
       "      <td>0.0</td>\n",
       "      <td>0.0</td>\n",
       "      <td>0.0</td>\n",
       "      <td>1.402211e+08</td>\n",
       "      <td>1124.503385</td>\n",
       "      <td>0.0</td>\n",
       "      <td>0.0</td>\n",
       "      <td>...</td>\n",
       "      <td>0.0</td>\n",
       "      <td>0.0</td>\n",
       "      <td>0.0</td>\n",
       "      <td>0.0</td>\n",
       "      <td>0.0</td>\n",
       "      <td>0.0</td>\n",
       "      <td>0.0</td>\n",
       "      <td>0.0</td>\n",
       "      <td>0.0</td>\n",
       "      <td>0.0</td>\n",
       "    </tr>\n",
       "    <tr>\n",
       "      <th>std</th>\n",
       "      <td>1825.508904</td>\n",
       "      <td>0.0</td>\n",
       "      <td>0.0</td>\n",
       "      <td>0.0</td>\n",
       "      <td>0.0</td>\n",
       "      <td>0.0</td>\n",
       "      <td>2.569261e+08</td>\n",
       "      <td>1784.317298</td>\n",
       "      <td>0.0</td>\n",
       "      <td>0.0</td>\n",
       "      <td>...</td>\n",
       "      <td>0.0</td>\n",
       "      <td>0.0</td>\n",
       "      <td>0.0</td>\n",
       "      <td>0.0</td>\n",
       "      <td>0.0</td>\n",
       "      <td>0.0</td>\n",
       "      <td>0.0</td>\n",
       "      <td>0.0</td>\n",
       "      <td>0.0</td>\n",
       "      <td>0.0</td>\n",
       "    </tr>\n",
       "    <tr>\n",
       "      <th>min</th>\n",
       "      <td>5.000000</td>\n",
       "      <td>0.0</td>\n",
       "      <td>0.0</td>\n",
       "      <td>0.0</td>\n",
       "      <td>0.0</td>\n",
       "      <td>0.0</td>\n",
       "      <td>0.000000e+00</td>\n",
       "      <td>0.000000</td>\n",
       "      <td>0.0</td>\n",
       "      <td>0.0</td>\n",
       "      <td>...</td>\n",
       "      <td>0.0</td>\n",
       "      <td>0.0</td>\n",
       "      <td>0.0</td>\n",
       "      <td>0.0</td>\n",
       "      <td>0.0</td>\n",
       "      <td>0.0</td>\n",
       "      <td>0.0</td>\n",
       "      <td>0.0</td>\n",
       "      <td>0.0</td>\n",
       "      <td>0.0</td>\n",
       "    </tr>\n",
       "    <tr>\n",
       "      <th>25%</th>\n",
       "      <td>318.892327</td>\n",
       "      <td>0.0</td>\n",
       "      <td>0.0</td>\n",
       "      <td>0.0</td>\n",
       "      <td>0.0</td>\n",
       "      <td>0.0</td>\n",
       "      <td>1.252915e+06</td>\n",
       "      <td>0.000000</td>\n",
       "      <td>0.0</td>\n",
       "      <td>0.0</td>\n",
       "      <td>...</td>\n",
       "      <td>0.0</td>\n",
       "      <td>0.0</td>\n",
       "      <td>0.0</td>\n",
       "      <td>0.0</td>\n",
       "      <td>0.0</td>\n",
       "      <td>0.0</td>\n",
       "      <td>0.0</td>\n",
       "      <td>0.0</td>\n",
       "      <td>0.0</td>\n",
       "      <td>0.0</td>\n",
       "    </tr>\n",
       "    <tr>\n",
       "      <th>50%</th>\n",
       "      <td>1815.323575</td>\n",
       "      <td>0.0</td>\n",
       "      <td>0.0</td>\n",
       "      <td>0.0</td>\n",
       "      <td>0.0</td>\n",
       "      <td>0.0</td>\n",
       "      <td>6.046535e+06</td>\n",
       "      <td>0.000000</td>\n",
       "      <td>0.0</td>\n",
       "      <td>0.0</td>\n",
       "      <td>...</td>\n",
       "      <td>0.0</td>\n",
       "      <td>0.0</td>\n",
       "      <td>0.0</td>\n",
       "      <td>0.0</td>\n",
       "      <td>0.0</td>\n",
       "      <td>0.0</td>\n",
       "      <td>0.0</td>\n",
       "      <td>0.0</td>\n",
       "      <td>0.0</td>\n",
       "      <td>0.0</td>\n",
       "    </tr>\n",
       "    <tr>\n",
       "      <th>75%</th>\n",
       "      <td>3687.752068</td>\n",
       "      <td>0.0</td>\n",
       "      <td>0.0</td>\n",
       "      <td>0.0</td>\n",
       "      <td>0.0</td>\n",
       "      <td>0.0</td>\n",
       "      <td>9.550802e+07</td>\n",
       "      <td>2326.000000</td>\n",
       "      <td>0.0</td>\n",
       "      <td>0.0</td>\n",
       "      <td>...</td>\n",
       "      <td>0.0</td>\n",
       "      <td>0.0</td>\n",
       "      <td>0.0</td>\n",
       "      <td>0.0</td>\n",
       "      <td>0.0</td>\n",
       "      <td>0.0</td>\n",
       "      <td>0.0</td>\n",
       "      <td>0.0</td>\n",
       "      <td>0.0</td>\n",
       "      <td>0.0</td>\n",
       "    </tr>\n",
       "    <tr>\n",
       "      <th>max</th>\n",
       "      <td>5855.669471</td>\n",
       "      <td>0.0</td>\n",
       "      <td>0.0</td>\n",
       "      <td>0.0</td>\n",
       "      <td>0.0</td>\n",
       "      <td>0.0</td>\n",
       "      <td>9.738758e+08</td>\n",
       "      <td>5343.000000</td>\n",
       "      <td>0.0</td>\n",
       "      <td>0.0</td>\n",
       "      <td>...</td>\n",
       "      <td>0.0</td>\n",
       "      <td>0.0</td>\n",
       "      <td>0.0</td>\n",
       "      <td>0.0</td>\n",
       "      <td>0.0</td>\n",
       "      <td>0.0</td>\n",
       "      <td>0.0</td>\n",
       "      <td>0.0</td>\n",
       "      <td>0.0</td>\n",
       "      <td>0.0</td>\n",
       "    </tr>\n",
       "  </tbody>\n",
       "</table>\n",
       "<p>8 rows × 904 columns</p>\n",
       "</div>"
      ],
      "text/plain": [
       "               time  alarmtimer_alarmtimer_cancel  \\\n",
       "count  12702.000000                       12702.0   \n",
       "mean    2164.277443                           0.0   \n",
       "std     1825.508904                           0.0   \n",
       "min        5.000000                           0.0   \n",
       "25%      318.892327                           0.0   \n",
       "50%     1815.323575                           0.0   \n",
       "75%     3687.752068                           0.0   \n",
       "max     5855.669471                           0.0   \n",
       "\n",
       "       alarmtimer_alarmtimer_fired  alarmtimer_alarmtimer_start  \\\n",
       "count                      12702.0                      12702.0   \n",
       "mean                           0.0                          0.0   \n",
       "std                            0.0                          0.0   \n",
       "min                            0.0                          0.0   \n",
       "25%                            0.0                          0.0   \n",
       "50%                            0.0                          0.0   \n",
       "75%                            0.0                          0.0   \n",
       "max                            0.0                          0.0   \n",
       "\n",
       "       alarmtimer_alarmtimer_suspend  alignment-faults      ase_spec  \\\n",
       "count                        12702.0           12702.0  1.270200e+04   \n",
       "mean                             0.0               0.0  1.402211e+08   \n",
       "std                              0.0               0.0  2.569261e+08   \n",
       "min                              0.0               0.0  0.000000e+00   \n",
       "25%                              0.0               0.0  1.252915e+06   \n",
       "50%                              0.0               0.0  6.046535e+06   \n",
       "75%                              0.0               0.0  9.550802e+07   \n",
       "max                              0.0               0.0  9.738758e+08   \n",
       "\n",
       "       block_block_bio_backmerge  block_block_bio_bounce  \\\n",
       "count               12702.000000                 12702.0   \n",
       "mean                 1124.503385                     0.0   \n",
       "std                  1784.317298                     0.0   \n",
       "min                     0.000000                     0.0   \n",
       "25%                     0.000000                     0.0   \n",
       "50%                     0.000000                     0.0   \n",
       "75%                  2326.000000                     0.0   \n",
       "max                  5343.000000                     0.0   \n",
       "\n",
       "       block_block_bio_complete  ...  writeback_writeback_sb_inodes_requeue  \\\n",
       "count                   12702.0  ...                                12702.0   \n",
       "mean                        0.0  ...                                    0.0   \n",
       "std                         0.0  ...                                    0.0   \n",
       "min                         0.0  ...                                    0.0   \n",
       "25%                         0.0  ...                                    0.0   \n",
       "50%                         0.0  ...                                    0.0   \n",
       "75%                         0.0  ...                                    0.0   \n",
       "max                         0.0  ...                                    0.0   \n",
       "\n",
       "       writeback_writeback_single_inode  \\\n",
       "count                           12702.0   \n",
       "mean                                0.0   \n",
       "std                                 0.0   \n",
       "min                                 0.0   \n",
       "25%                                 0.0   \n",
       "50%                                 0.0   \n",
       "75%                                 0.0   \n",
       "max                                 0.0   \n",
       "\n",
       "       writeback_writeback_single_inode_start  writeback_writeback_start  \\\n",
       "count                                 12702.0                    12702.0   \n",
       "mean                                      0.0                        0.0   \n",
       "std                                       0.0                        0.0   \n",
       "min                                       0.0                        0.0   \n",
       "25%                                       0.0                        0.0   \n",
       "50%                                       0.0                        0.0   \n",
       "75%                                       0.0                        0.0   \n",
       "max                                       0.0                        0.0   \n",
       "\n",
       "       writeback_writeback_wait  writeback_writeback_wait_iff_congested  \\\n",
       "count                   12702.0                                 12702.0   \n",
       "mean                        0.0                                     0.0   \n",
       "std                         0.0                                     0.0   \n",
       "min                         0.0                                     0.0   \n",
       "25%                         0.0                                     0.0   \n",
       "50%                         0.0                                     0.0   \n",
       "75%                         0.0                                     0.0   \n",
       "max                         0.0                                     0.0   \n",
       "\n",
       "       writeback_writeback_wake_background  writeback_writeback_write_inode  \\\n",
       "count                              12702.0                          12702.0   \n",
       "mean                                   0.0                              0.0   \n",
       "std                                    0.0                              0.0   \n",
       "min                                    0.0                              0.0   \n",
       "25%                                    0.0                              0.0   \n",
       "50%                                    0.0                              0.0   \n",
       "75%                                    0.0                              0.0   \n",
       "max                                    0.0                              0.0   \n",
       "\n",
       "       writeback_writeback_write_inode_start  writeback_writeback_written  \n",
       "count                                12702.0                      12702.0  \n",
       "mean                                     0.0                          0.0  \n",
       "std                                      0.0                          0.0  \n",
       "min                                      0.0                          0.0  \n",
       "25%                                      0.0                          0.0  \n",
       "50%                                      0.0                          0.0  \n",
       "75%                                      0.0                          0.0  \n",
       "max                                      0.0                          0.0  \n",
       "\n",
       "[8 rows x 904 columns]"
      ]
     },
     "execution_count": 5,
     "metadata": {},
     "output_type": "execute_result"
    }
   ],
   "source": [
    "data.describe()"
   ]
  },
  {
   "cell_type": "code",
   "execution_count": 6,
   "metadata": {
    "colab": {
     "base_uri": "https://localhost:8080/",
     "height": 273
    },
    "executionInfo": {
     "elapsed": 161,
     "status": "ok",
     "timestamp": 1731539071203,
     "user": {
      "displayName": "Bishal KC",
      "userId": "17083063275206021141"
     },
     "user_tz": -345
    },
    "id": "POnYRsdR7eO1",
    "outputId": "c29783fa-c885-4859-c0d5-4b736c4ab5fb"
   },
   "outputs": [
    {
     "data": {
      "text/html": [
       "<div>\n",
       "<style scoped>\n",
       "    .dataframe tbody tr th:only-of-type {\n",
       "        vertical-align: middle;\n",
       "    }\n",
       "\n",
       "    .dataframe tbody tr th {\n",
       "        vertical-align: top;\n",
       "    }\n",
       "\n",
       "    .dataframe thead th {\n",
       "        text-align: right;\n",
       "    }\n",
       "</style>\n",
       "<table border=\"1\" class=\"dataframe\">\n",
       "  <thead>\n",
       "    <tr style=\"text-align: right;\">\n",
       "      <th></th>\n",
       "      <th>time</th>\n",
       "      <th>alarmtimer_alarmtimer_cancel</th>\n",
       "      <th>alarmtimer_alarmtimer_fired</th>\n",
       "      <th>alarmtimer_alarmtimer_start</th>\n",
       "      <th>alarmtimer_alarmtimer_suspend</th>\n",
       "      <th>alignment-faults</th>\n",
       "      <th>ase_spec</th>\n",
       "      <th>block_block_bio_backmerge</th>\n",
       "      <th>block_block_bio_bounce</th>\n",
       "      <th>block_block_bio_complete</th>\n",
       "      <th>...</th>\n",
       "      <th>writeback_writeback_wait_iff_congested</th>\n",
       "      <th>writeback_writeback_wake_background</th>\n",
       "      <th>writeback_writeback_write_inode</th>\n",
       "      <th>writeback_writeback_write_inode_start</th>\n",
       "      <th>writeback_writeback_written</th>\n",
       "      <th>ChargingState</th>\n",
       "      <th>Attack</th>\n",
       "      <th>Scenario</th>\n",
       "      <th>Label</th>\n",
       "      <th>interface</th>\n",
       "    </tr>\n",
       "  </thead>\n",
       "  <tbody>\n",
       "    <tr>\n",
       "      <th>0</th>\n",
       "      <td>5.001477</td>\n",
       "      <td>0</td>\n",
       "      <td>0</td>\n",
       "      <td>0</td>\n",
       "      <td>0</td>\n",
       "      <td>0</td>\n",
       "      <td>693371795</td>\n",
       "      <td>0</td>\n",
       "      <td>0</td>\n",
       "      <td>0</td>\n",
       "      <td>...</td>\n",
       "      <td>0</td>\n",
       "      <td>0</td>\n",
       "      <td>0</td>\n",
       "      <td>0</td>\n",
       "      <td>0</td>\n",
       "      <td>Charging</td>\n",
       "      <td>cryptojacking</td>\n",
       "      <td>Cryptojacking</td>\n",
       "      <td>attack</td>\n",
       "      <td>any</td>\n",
       "    </tr>\n",
       "    <tr>\n",
       "      <th>1</th>\n",
       "      <td>5.001487</td>\n",
       "      <td>0</td>\n",
       "      <td>0</td>\n",
       "      <td>0</td>\n",
       "      <td>0</td>\n",
       "      <td>0</td>\n",
       "      <td>699964025</td>\n",
       "      <td>0</td>\n",
       "      <td>0</td>\n",
       "      <td>0</td>\n",
       "      <td>...</td>\n",
       "      <td>0</td>\n",
       "      <td>0</td>\n",
       "      <td>0</td>\n",
       "      <td>0</td>\n",
       "      <td>0</td>\n",
       "      <td>Charging</td>\n",
       "      <td>cryptojacking</td>\n",
       "      <td>Cryptojacking</td>\n",
       "      <td>attack</td>\n",
       "      <td>any</td>\n",
       "    </tr>\n",
       "    <tr>\n",
       "      <th>2</th>\n",
       "      <td>5.001641</td>\n",
       "      <td>0</td>\n",
       "      <td>0</td>\n",
       "      <td>0</td>\n",
       "      <td>0</td>\n",
       "      <td>0</td>\n",
       "      <td>549770341</td>\n",
       "      <td>0</td>\n",
       "      <td>0</td>\n",
       "      <td>0</td>\n",
       "      <td>...</td>\n",
       "      <td>0</td>\n",
       "      <td>0</td>\n",
       "      <td>0</td>\n",
       "      <td>0</td>\n",
       "      <td>0</td>\n",
       "      <td>Charging</td>\n",
       "      <td>cryptojacking</td>\n",
       "      <td>Cryptojacking</td>\n",
       "      <td>attack</td>\n",
       "      <td>any</td>\n",
       "    </tr>\n",
       "    <tr>\n",
       "      <th>3</th>\n",
       "      <td>5.003762</td>\n",
       "      <td>0</td>\n",
       "      <td>0</td>\n",
       "      <td>0</td>\n",
       "      <td>0</td>\n",
       "      <td>0</td>\n",
       "      <td>571970875</td>\n",
       "      <td>0</td>\n",
       "      <td>0</td>\n",
       "      <td>0</td>\n",
       "      <td>...</td>\n",
       "      <td>0</td>\n",
       "      <td>0</td>\n",
       "      <td>0</td>\n",
       "      <td>0</td>\n",
       "      <td>0</td>\n",
       "      <td>Charging</td>\n",
       "      <td>cryptojacking</td>\n",
       "      <td>Cryptojacking</td>\n",
       "      <td>attack</td>\n",
       "      <td>any</td>\n",
       "    </tr>\n",
       "    <tr>\n",
       "      <th>4</th>\n",
       "      <td>10.065740</td>\n",
       "      <td>0</td>\n",
       "      <td>0</td>\n",
       "      <td>0</td>\n",
       "      <td>0</td>\n",
       "      <td>0</td>\n",
       "      <td>553199786</td>\n",
       "      <td>0</td>\n",
       "      <td>0</td>\n",
       "      <td>0</td>\n",
       "      <td>...</td>\n",
       "      <td>0</td>\n",
       "      <td>0</td>\n",
       "      <td>0</td>\n",
       "      <td>0</td>\n",
       "      <td>0</td>\n",
       "      <td>Charging</td>\n",
       "      <td>cryptojacking</td>\n",
       "      <td>Cryptojacking</td>\n",
       "      <td>attack</td>\n",
       "      <td>any</td>\n",
       "    </tr>\n",
       "  </tbody>\n",
       "</table>\n",
       "<p>5 rows × 911 columns</p>\n",
       "</div>"
      ],
      "text/plain": [
       "        time  alarmtimer_alarmtimer_cancel  alarmtimer_alarmtimer_fired  \\\n",
       "0   5.001477                             0                            0   \n",
       "1   5.001487                             0                            0   \n",
       "2   5.001641                             0                            0   \n",
       "3   5.003762                             0                            0   \n",
       "4  10.065740                             0                            0   \n",
       "\n",
       "   alarmtimer_alarmtimer_start  alarmtimer_alarmtimer_suspend  \\\n",
       "0                            0                              0   \n",
       "1                            0                              0   \n",
       "2                            0                              0   \n",
       "3                            0                              0   \n",
       "4                            0                              0   \n",
       "\n",
       "   alignment-faults   ase_spec  block_block_bio_backmerge  \\\n",
       "0                 0  693371795                          0   \n",
       "1                 0  699964025                          0   \n",
       "2                 0  549770341                          0   \n",
       "3                 0  571970875                          0   \n",
       "4                 0  553199786                          0   \n",
       "\n",
       "   block_block_bio_bounce  block_block_bio_complete  ...  \\\n",
       "0                       0                         0  ...   \n",
       "1                       0                         0  ...   \n",
       "2                       0                         0  ...   \n",
       "3                       0                         0  ...   \n",
       "4                       0                         0  ...   \n",
       "\n",
       "   writeback_writeback_wait_iff_congested  \\\n",
       "0                                       0   \n",
       "1                                       0   \n",
       "2                                       0   \n",
       "3                                       0   \n",
       "4                                       0   \n",
       "\n",
       "   writeback_writeback_wake_background  writeback_writeback_write_inode  \\\n",
       "0                                    0                                0   \n",
       "1                                    0                                0   \n",
       "2                                    0                                0   \n",
       "3                                    0                                0   \n",
       "4                                    0                                0   \n",
       "\n",
       "   writeback_writeback_write_inode_start  writeback_writeback_written  \\\n",
       "0                                      0                            0   \n",
       "1                                      0                            0   \n",
       "2                                      0                            0   \n",
       "3                                      0                            0   \n",
       "4                                      0                            0   \n",
       "\n",
       "   ChargingState         Attack       Scenario   Label  interface  \n",
       "0       Charging  cryptojacking  Cryptojacking  attack        any  \n",
       "1       Charging  cryptojacking  Cryptojacking  attack        any  \n",
       "2       Charging  cryptojacking  Cryptojacking  attack        any  \n",
       "3       Charging  cryptojacking  Cryptojacking  attack        any  \n",
       "4       Charging  cryptojacking  Cryptojacking  attack        any  \n",
       "\n",
       "[5 rows x 911 columns]"
      ]
     },
     "execution_count": 6,
     "metadata": {},
     "output_type": "execute_result"
    }
   ],
   "source": [
    "data.head()"
   ]
  },
  {
   "cell_type": "code",
   "execution_count": 7,
   "metadata": {
    "colab": {
     "base_uri": "https://localhost:8080/"
    },
    "executionInfo": {
     "elapsed": 217,
     "status": "ok",
     "timestamp": 1731539072049,
     "user": {
      "displayName": "Bishal KC",
      "userId": "17083063275206021141"
     },
     "user_tz": -345
    },
    "id": "fm6JUwsSIaD0",
    "outputId": "5bae1404-522f-4115-c907-c46a9c1a9044"
   },
   "outputs": [
    {
     "data": {
      "text/plain": [
       "array(['attack', 'benign'], dtype=object)"
      ]
     },
     "execution_count": 7,
     "metadata": {},
     "output_type": "execute_result"
    }
   ],
   "source": [
    "data[\"Label\"].unique()"
   ]
  },
  {
   "cell_type": "code",
   "execution_count": 8,
   "metadata": {
    "colab": {
     "base_uri": "https://localhost:8080/"
    },
    "executionInfo": {
     "elapsed": 130,
     "status": "ok",
     "timestamp": 1731539072745,
     "user": {
      "displayName": "Bishal KC",
      "userId": "17083063275206021141"
     },
     "user_tz": -345
    },
    "id": "_QZbGwg28JrP",
    "outputId": "ccce515f-829a-4b79-fcfc-aabdcf529358"
   },
   "outputs": [
    {
     "name": "stdout",
     "output_type": "stream",
     "text": [
      "\u001b[1mCASE COUNT\u001b[0m\n",
      "\u001b[1m--------------------------------------------\u001b[0m\n",
      "\u001b[1mTotal number of cases are 12702\u001b[0m\n",
      "\u001b[1mNumber of Benign cases are 3454\u001b[0m\n",
      "\u001b[1mNumber of attack cases are 9248\u001b[0m\n",
      "\u001b[1mPercentage of attack cases is 72.81\u001b[0m\n",
      "\u001b[1m--------------------------------------------\u001b[0m\n"
     ]
    }
   ],
   "source": [
    "cases = len(data)\n",
    "benign_count = len(data[data.Label == \"benign\"])\n",
    "attack_count = len(data[data.Label == \"attack\"])\n",
    "anomolies_percentage = round(attack_count/cases*100, 2)\n",
    "\n",
    "print(cl('CASE COUNT', attrs = ['bold']))\n",
    "print(cl('--------------------------------------------', attrs = ['bold']))\n",
    "print(cl('Total number of cases are {}'.format(cases), attrs = ['bold']))\n",
    "print(cl('Number of Benign cases are {}'.format(benign_count), attrs = ['bold']))\n",
    "print(cl('Number of attack cases are {}'.format(attack_count), attrs = ['bold']))\n",
    "print(cl('Percentage of attack cases is {}'.format(anomolies_percentage), attrs = ['bold']))\n",
    "print(cl('--------------------------------------------', attrs = ['bold']))"
   ]
  },
  {
   "cell_type": "code",
   "execution_count": 9,
   "metadata": {
    "colab": {
     "base_uri": "https://localhost:8080/"
    },
    "executionInfo": {
     "elapsed": 373,
     "status": "ok",
     "timestamp": 1731539073775,
     "user": {
      "displayName": "Bishal KC",
      "userId": "17083063275206021141"
     },
     "user_tz": -345
    },
    "id": "6RsMZhqXCI6y",
    "outputId": "ab2745cd-635d-46e7-a59e-5b8cad573109"
   },
   "outputs": [
    {
     "data": {
      "text/plain": [
       "0"
      ]
     },
     "execution_count": 9,
     "metadata": {},
     "output_type": "execute_result"
    }
   ],
   "source": [
    "data.duplicated().sum()"
   ]
  },
  {
   "cell_type": "code",
   "execution_count": 10,
   "metadata": {
    "executionInfo": {
     "elapsed": 355,
     "status": "ok",
     "timestamp": 1731539074613,
     "user": {
      "displayName": "Bishal KC",
      "userId": "17083063275206021141"
     },
     "user_tz": -345
    },
    "id": "GFn0w03SCQNO"
   },
   "outputs": [],
   "source": [
    "data = data.drop_duplicates()"
   ]
  },
  {
   "cell_type": "code",
   "execution_count": 11,
   "metadata": {
    "executionInfo": {
     "elapsed": 153,
     "status": "ok",
     "timestamp": 1731539075193,
     "user": {
      "displayName": "Bishal KC",
      "userId": "17083063275206021141"
     },
     "user_tz": -345
    },
    "id": "CWbZfZ5sDK77"
   },
   "outputs": [
    {
     "name": "stdout",
     "output_type": "stream",
     "text": [
      "raw_syscalls_sys_enter: 2 (0.016%)\n",
      "raw_syscalls_sys_exit: 3 (0.024%)\n",
      "syscalls_sys_enter_arm64_personality: 5 (0.039%)\n",
      "syscalls_sys_enter_capget: 4 (0.031%)\n",
      "syscalls_sys_enter_capset: 2 (0.016%)\n",
      "syscalls_sys_enter_clone: 3 (0.024%)\n",
      "syscalls_sys_enter_clone3: 4 (0.031%)\n",
      "syscalls_sys_enter_exit: 2 (0.016%)\n",
      "syscalls_sys_enter_exit_group: 3 (0.024%)\n",
      "syscalls_sys_enter_mmap: 2 (0.016%)\n",
      "syscalls_sys_enter_rt_sigreturn: 3 (0.024%)\n",
      "syscalls_sys_enter_set_tid_address: 3 (0.024%)\n",
      "syscalls_sys_enter_unshare: 5 (0.039%)\n",
      "syscalls_sys_enter_wait4: 2 (0.016%)\n",
      "syscalls_sys_enter_waitid: 3 (0.024%)\n",
      "syscalls_sys_exit_arm64_personality: 2 (0.016%)\n",
      "syscalls_sys_exit_capget: 4 (0.031%)\n",
      "syscalls_sys_exit_capset: 3 (0.024%)\n",
      "syscalls_sys_exit_clone: 2 (0.016%)\n",
      "syscalls_sys_exit_clone3: 3 (0.024%)\n",
      "syscalls_sys_exit_exit: 3 (0.024%)\n",
      "syscalls_sys_exit_exit_group: 2 (0.016%)\n",
      "syscalls_sys_exit_mmap: 2 (0.016%)\n",
      "syscalls_sys_exit_ptrace: 2 (0.016%)\n",
      "syscalls_sys_exit_rt_sigreturn: 2 (0.016%)\n",
      "syscalls_sys_exit_set_tid_address: 2 (0.016%)\n",
      "syscalls_sys_exit_unshare: 3 (0.024%)\n",
      "syscalls_sys_exit_wait4: 3 (0.024%)\n",
      "syscalls_sys_exit_waitid: 4 (0.031%)\n",
      "unit: 3446 (27.13%)\n"
     ]
    }
   ],
   "source": [
    "total_rows = data.shape[0]\n",
    "missing_columns = [col for col in data.columns if data[col].isnull().sum()>0]\n",
    "for col in missing_columns:\n",
    "  null_count = data[col].isnull().sum()\n",
    "  per = (null_count/total_rows) * 100\n",
    "  print(f\"{col}: {null_count} ({round(per,3)}%)\")"
   ]
  },
  {
   "cell_type": "code",
   "execution_count": 12,
   "metadata": {
    "colab": {
     "base_uri": "https://localhost:8080/"
    },
    "executionInfo": {
     "elapsed": 316,
     "status": "ok",
     "timestamp": 1731539076091,
     "user": {
      "displayName": "Bishal KC",
      "userId": "17083063275206021141"
     },
     "user_tz": -345
    },
    "id": "nfRFnR9fDK77",
    "outputId": "8491a044-5824-48fa-9f5e-95b9de5f1a3d"
   },
   "outputs": [
    {
     "data": {
      "text/html": [
       "<div>\n",
       "<style scoped>\n",
       "    .dataframe tbody tr th:only-of-type {\n",
       "        vertical-align: middle;\n",
       "    }\n",
       "\n",
       "    .dataframe tbody tr th {\n",
       "        vertical-align: top;\n",
       "    }\n",
       "\n",
       "    .dataframe thead th {\n",
       "        text-align: right;\n",
       "    }\n",
       "</style>\n",
       "<table border=\"1\" class=\"dataframe\">\n",
       "  <thead>\n",
       "    <tr style=\"text-align: right;\">\n",
       "      <th></th>\n",
       "      <th>time</th>\n",
       "      <th>alarmtimer_alarmtimer_cancel</th>\n",
       "      <th>alarmtimer_alarmtimer_fired</th>\n",
       "      <th>alarmtimer_alarmtimer_start</th>\n",
       "      <th>alarmtimer_alarmtimer_suspend</th>\n",
       "      <th>alignment-faults</th>\n",
       "      <th>ase_spec</th>\n",
       "      <th>block_block_bio_backmerge</th>\n",
       "      <th>block_block_bio_bounce</th>\n",
       "      <th>block_block_bio_complete</th>\n",
       "      <th>...</th>\n",
       "      <th>writeback_writeback_wait_iff_congested</th>\n",
       "      <th>writeback_writeback_wake_background</th>\n",
       "      <th>writeback_writeback_write_inode</th>\n",
       "      <th>writeback_writeback_write_inode_start</th>\n",
       "      <th>writeback_writeback_written</th>\n",
       "      <th>ChargingState</th>\n",
       "      <th>Attack</th>\n",
       "      <th>Scenario</th>\n",
       "      <th>Label</th>\n",
       "      <th>interface</th>\n",
       "    </tr>\n",
       "  </thead>\n",
       "  <tbody>\n",
       "    <tr>\n",
       "      <th>0</th>\n",
       "      <td>5.001477</td>\n",
       "      <td>0</td>\n",
       "      <td>0</td>\n",
       "      <td>0</td>\n",
       "      <td>0</td>\n",
       "      <td>0</td>\n",
       "      <td>693371795</td>\n",
       "      <td>0</td>\n",
       "      <td>0</td>\n",
       "      <td>0</td>\n",
       "      <td>...</td>\n",
       "      <td>0</td>\n",
       "      <td>0</td>\n",
       "      <td>0</td>\n",
       "      <td>0</td>\n",
       "      <td>0</td>\n",
       "      <td>Charging</td>\n",
       "      <td>cryptojacking</td>\n",
       "      <td>Cryptojacking</td>\n",
       "      <td>attack</td>\n",
       "      <td>any</td>\n",
       "    </tr>\n",
       "    <tr>\n",
       "      <th>1</th>\n",
       "      <td>5.001487</td>\n",
       "      <td>0</td>\n",
       "      <td>0</td>\n",
       "      <td>0</td>\n",
       "      <td>0</td>\n",
       "      <td>0</td>\n",
       "      <td>699964025</td>\n",
       "      <td>0</td>\n",
       "      <td>0</td>\n",
       "      <td>0</td>\n",
       "      <td>...</td>\n",
       "      <td>0</td>\n",
       "      <td>0</td>\n",
       "      <td>0</td>\n",
       "      <td>0</td>\n",
       "      <td>0</td>\n",
       "      <td>Charging</td>\n",
       "      <td>cryptojacking</td>\n",
       "      <td>Cryptojacking</td>\n",
       "      <td>attack</td>\n",
       "      <td>any</td>\n",
       "    </tr>\n",
       "    <tr>\n",
       "      <th>2</th>\n",
       "      <td>5.001641</td>\n",
       "      <td>0</td>\n",
       "      <td>0</td>\n",
       "      <td>0</td>\n",
       "      <td>0</td>\n",
       "      <td>0</td>\n",
       "      <td>549770341</td>\n",
       "      <td>0</td>\n",
       "      <td>0</td>\n",
       "      <td>0</td>\n",
       "      <td>...</td>\n",
       "      <td>0</td>\n",
       "      <td>0</td>\n",
       "      <td>0</td>\n",
       "      <td>0</td>\n",
       "      <td>0</td>\n",
       "      <td>Charging</td>\n",
       "      <td>cryptojacking</td>\n",
       "      <td>Cryptojacking</td>\n",
       "      <td>attack</td>\n",
       "      <td>any</td>\n",
       "    </tr>\n",
       "    <tr>\n",
       "      <th>3</th>\n",
       "      <td>5.003762</td>\n",
       "      <td>0</td>\n",
       "      <td>0</td>\n",
       "      <td>0</td>\n",
       "      <td>0</td>\n",
       "      <td>0</td>\n",
       "      <td>571970875</td>\n",
       "      <td>0</td>\n",
       "      <td>0</td>\n",
       "      <td>0</td>\n",
       "      <td>...</td>\n",
       "      <td>0</td>\n",
       "      <td>0</td>\n",
       "      <td>0</td>\n",
       "      <td>0</td>\n",
       "      <td>0</td>\n",
       "      <td>Charging</td>\n",
       "      <td>cryptojacking</td>\n",
       "      <td>Cryptojacking</td>\n",
       "      <td>attack</td>\n",
       "      <td>any</td>\n",
       "    </tr>\n",
       "    <tr>\n",
       "      <th>4</th>\n",
       "      <td>10.065740</td>\n",
       "      <td>0</td>\n",
       "      <td>0</td>\n",
       "      <td>0</td>\n",
       "      <td>0</td>\n",
       "      <td>0</td>\n",
       "      <td>553199786</td>\n",
       "      <td>0</td>\n",
       "      <td>0</td>\n",
       "      <td>0</td>\n",
       "      <td>...</td>\n",
       "      <td>0</td>\n",
       "      <td>0</td>\n",
       "      <td>0</td>\n",
       "      <td>0</td>\n",
       "      <td>0</td>\n",
       "      <td>Charging</td>\n",
       "      <td>cryptojacking</td>\n",
       "      <td>Cryptojacking</td>\n",
       "      <td>attack</td>\n",
       "      <td>any</td>\n",
       "    </tr>\n",
       "    <tr>\n",
       "      <th>...</th>\n",
       "      <td>...</td>\n",
       "      <td>...</td>\n",
       "      <td>...</td>\n",
       "      <td>...</td>\n",
       "      <td>...</td>\n",
       "      <td>...</td>\n",
       "      <td>...</td>\n",
       "      <td>...</td>\n",
       "      <td>...</td>\n",
       "      <td>...</td>\n",
       "      <td>...</td>\n",
       "      <td>...</td>\n",
       "      <td>...</td>\n",
       "      <td>...</td>\n",
       "      <td>...</td>\n",
       "      <td>...</td>\n",
       "      <td>...</td>\n",
       "      <td>...</td>\n",
       "      <td>...</td>\n",
       "      <td>...</td>\n",
       "      <td>...</td>\n",
       "    </tr>\n",
       "    <tr>\n",
       "      <th>12697</th>\n",
       "      <td>3606.096204</td>\n",
       "      <td>0</td>\n",
       "      <td>0</td>\n",
       "      <td>0</td>\n",
       "      <td>0</td>\n",
       "      <td>0</td>\n",
       "      <td>314710680</td>\n",
       "      <td>2793</td>\n",
       "      <td>0</td>\n",
       "      <td>0</td>\n",
       "      <td>...</td>\n",
       "      <td>0</td>\n",
       "      <td>0</td>\n",
       "      <td>0</td>\n",
       "      <td>0</td>\n",
       "      <td>0</td>\n",
       "      <td>Charging</td>\n",
       "      <td>cryptojacking</td>\n",
       "      <td>Benign</td>\n",
       "      <td>attack</td>\n",
       "      <td>any</td>\n",
       "    </tr>\n",
       "    <tr>\n",
       "      <th>12698</th>\n",
       "      <td>1676.161152</td>\n",
       "      <td>0</td>\n",
       "      <td>0</td>\n",
       "      <td>0</td>\n",
       "      <td>0</td>\n",
       "      <td>0</td>\n",
       "      <td>225297323</td>\n",
       "      <td>3612</td>\n",
       "      <td>0</td>\n",
       "      <td>0</td>\n",
       "      <td>...</td>\n",
       "      <td>0</td>\n",
       "      <td>0</td>\n",
       "      <td>0</td>\n",
       "      <td>0</td>\n",
       "      <td>0</td>\n",
       "      <td>idle</td>\n",
       "      <td>cryptojacking</td>\n",
       "      <td>Benign</td>\n",
       "      <td>attack</td>\n",
       "      <td>none</td>\n",
       "    </tr>\n",
       "    <tr>\n",
       "      <th>12699</th>\n",
       "      <td>44.944882</td>\n",
       "      <td>0</td>\n",
       "      <td>0</td>\n",
       "      <td>0</td>\n",
       "      <td>0</td>\n",
       "      <td>0</td>\n",
       "      <td>44789343</td>\n",
       "      <td>3726</td>\n",
       "      <td>0</td>\n",
       "      <td>0</td>\n",
       "      <td>...</td>\n",
       "      <td>0</td>\n",
       "      <td>0</td>\n",
       "      <td>0</td>\n",
       "      <td>0</td>\n",
       "      <td>0</td>\n",
       "      <td>Charging</td>\n",
       "      <td>port-scan</td>\n",
       "      <td>DoS</td>\n",
       "      <td>attack</td>\n",
       "      <td>ocpp</td>\n",
       "    </tr>\n",
       "    <tr>\n",
       "      <th>12700</th>\n",
       "      <td>2645.700642</td>\n",
       "      <td>0</td>\n",
       "      <td>0</td>\n",
       "      <td>0</td>\n",
       "      <td>0</td>\n",
       "      <td>0</td>\n",
       "      <td>167412921</td>\n",
       "      <td>4291</td>\n",
       "      <td>0</td>\n",
       "      <td>0</td>\n",
       "      <td>...</td>\n",
       "      <td>0</td>\n",
       "      <td>0</td>\n",
       "      <td>0</td>\n",
       "      <td>0</td>\n",
       "      <td>0</td>\n",
       "      <td>Charging</td>\n",
       "      <td>cryptojacking</td>\n",
       "      <td>Cryptojacking</td>\n",
       "      <td>benign</td>\n",
       "      <td>iso15118</td>\n",
       "    </tr>\n",
       "    <tr>\n",
       "      <th>12701</th>\n",
       "      <td>5426.819478</td>\n",
       "      <td>0</td>\n",
       "      <td>0</td>\n",
       "      <td>0</td>\n",
       "      <td>0</td>\n",
       "      <td>0</td>\n",
       "      <td>2550556</td>\n",
       "      <td>3042</td>\n",
       "      <td>0</td>\n",
       "      <td>0</td>\n",
       "      <td>...</td>\n",
       "      <td>0</td>\n",
       "      <td>0</td>\n",
       "      <td>0</td>\n",
       "      <td>0</td>\n",
       "      <td>0</td>\n",
       "      <td>idle</td>\n",
       "      <td>cryptojacking</td>\n",
       "      <td>Cryptojacking</td>\n",
       "      <td>benign</td>\n",
       "      <td>ocpp</td>\n",
       "    </tr>\n",
       "  </tbody>\n",
       "</table>\n",
       "<p>12702 rows × 911 columns</p>\n",
       "</div>"
      ],
      "text/plain": [
       "              time  alarmtimer_alarmtimer_cancel  alarmtimer_alarmtimer_fired  \\\n",
       "0         5.001477                             0                            0   \n",
       "1         5.001487                             0                            0   \n",
       "2         5.001641                             0                            0   \n",
       "3         5.003762                             0                            0   \n",
       "4        10.065740                             0                            0   \n",
       "...            ...                           ...                          ...   \n",
       "12697  3606.096204                             0                            0   \n",
       "12698  1676.161152                             0                            0   \n",
       "12699    44.944882                             0                            0   \n",
       "12700  2645.700642                             0                            0   \n",
       "12701  5426.819478                             0                            0   \n",
       "\n",
       "       alarmtimer_alarmtimer_start  alarmtimer_alarmtimer_suspend  \\\n",
       "0                                0                              0   \n",
       "1                                0                              0   \n",
       "2                                0                              0   \n",
       "3                                0                              0   \n",
       "4                                0                              0   \n",
       "...                            ...                            ...   \n",
       "12697                            0                              0   \n",
       "12698                            0                              0   \n",
       "12699                            0                              0   \n",
       "12700                            0                              0   \n",
       "12701                            0                              0   \n",
       "\n",
       "       alignment-faults   ase_spec  block_block_bio_backmerge  \\\n",
       "0                     0  693371795                          0   \n",
       "1                     0  699964025                          0   \n",
       "2                     0  549770341                          0   \n",
       "3                     0  571970875                          0   \n",
       "4                     0  553199786                          0   \n",
       "...                 ...        ...                        ...   \n",
       "12697                 0  314710680                       2793   \n",
       "12698                 0  225297323                       3612   \n",
       "12699                 0   44789343                       3726   \n",
       "12700                 0  167412921                       4291   \n",
       "12701                 0    2550556                       3042   \n",
       "\n",
       "       block_block_bio_bounce  block_block_bio_complete  ...  \\\n",
       "0                           0                         0  ...   \n",
       "1                           0                         0  ...   \n",
       "2                           0                         0  ...   \n",
       "3                           0                         0  ...   \n",
       "4                           0                         0  ...   \n",
       "...                       ...                       ...  ...   \n",
       "12697                       0                         0  ...   \n",
       "12698                       0                         0  ...   \n",
       "12699                       0                         0  ...   \n",
       "12700                       0                         0  ...   \n",
       "12701                       0                         0  ...   \n",
       "\n",
       "       writeback_writeback_wait_iff_congested  \\\n",
       "0                                           0   \n",
       "1                                           0   \n",
       "2                                           0   \n",
       "3                                           0   \n",
       "4                                           0   \n",
       "...                                       ...   \n",
       "12697                                       0   \n",
       "12698                                       0   \n",
       "12699                                       0   \n",
       "12700                                       0   \n",
       "12701                                       0   \n",
       "\n",
       "       writeback_writeback_wake_background  writeback_writeback_write_inode  \\\n",
       "0                                        0                                0   \n",
       "1                                        0                                0   \n",
       "2                                        0                                0   \n",
       "3                                        0                                0   \n",
       "4                                        0                                0   \n",
       "...                                    ...                              ...   \n",
       "12697                                    0                                0   \n",
       "12698                                    0                                0   \n",
       "12699                                    0                                0   \n",
       "12700                                    0                                0   \n",
       "12701                                    0                                0   \n",
       "\n",
       "       writeback_writeback_write_inode_start  writeback_writeback_written  \\\n",
       "0                                          0                            0   \n",
       "1                                          0                            0   \n",
       "2                                          0                            0   \n",
       "3                                          0                            0   \n",
       "4                                          0                            0   \n",
       "...                                      ...                          ...   \n",
       "12697                                      0                            0   \n",
       "12698                                      0                            0   \n",
       "12699                                      0                            0   \n",
       "12700                                      0                            0   \n",
       "12701                                      0                            0   \n",
       "\n",
       "       ChargingState         Attack       Scenario   Label  interface  \n",
       "0           Charging  cryptojacking  Cryptojacking  attack        any  \n",
       "1           Charging  cryptojacking  Cryptojacking  attack        any  \n",
       "2           Charging  cryptojacking  Cryptojacking  attack        any  \n",
       "3           Charging  cryptojacking  Cryptojacking  attack        any  \n",
       "4           Charging  cryptojacking  Cryptojacking  attack        any  \n",
       "...              ...            ...            ...     ...        ...  \n",
       "12697       Charging  cryptojacking         Benign  attack        any  \n",
       "12698           idle  cryptojacking         Benign  attack       none  \n",
       "12699       Charging      port-scan            DoS  attack       ocpp  \n",
       "12700       Charging  cryptojacking  Cryptojacking  benign   iso15118  \n",
       "12701           idle  cryptojacking  Cryptojacking  benign       ocpp  \n",
       "\n",
       "[12702 rows x 911 columns]"
      ]
     },
     "execution_count": 12,
     "metadata": {},
     "output_type": "execute_result"
    }
   ],
   "source": [
    "# Impute missing values using the mean for the specified columns\n",
    "imputer = SimpleImputer(strategy='mean')\n",
    "\n",
    "for col in missing_columns:\n",
    "    data[col] = imputer.fit_transform(data[[col]])\n",
    "\n",
    "data"
   ]
  },
  {
   "cell_type": "code",
   "execution_count": 13,
   "metadata": {
    "colab": {
     "base_uri": "https://localhost:8080/",
     "height": 461
    },
    "executionInfo": {
     "elapsed": 544,
     "status": "ok",
     "timestamp": 1731539077298,
     "user": {
      "displayName": "Bishal KC",
      "userId": "17083063275206021141"
     },
     "user_tz": -345
    },
    "id": "aBYc9OotDK78",
    "outputId": "661fd707-4854-4d85-f74e-50422c9ce90b"
   },
   "outputs": [
    {
     "data": {
      "text/html": [
       "<div>\n",
       "<style scoped>\n",
       "    .dataframe tbody tr th:only-of-type {\n",
       "        vertical-align: middle;\n",
       "    }\n",
       "\n",
       "    .dataframe tbody tr th {\n",
       "        vertical-align: top;\n",
       "    }\n",
       "\n",
       "    .dataframe thead th {\n",
       "        text-align: right;\n",
       "    }\n",
       "</style>\n",
       "<table border=\"1\" class=\"dataframe\">\n",
       "  <thead>\n",
       "    <tr style=\"text-align: right;\">\n",
       "      <th></th>\n",
       "      <th>time</th>\n",
       "      <th>alarmtimer_alarmtimer_cancel</th>\n",
       "      <th>alarmtimer_alarmtimer_fired</th>\n",
       "      <th>alarmtimer_alarmtimer_start</th>\n",
       "      <th>alarmtimer_alarmtimer_suspend</th>\n",
       "      <th>alignment-faults</th>\n",
       "      <th>ase_spec</th>\n",
       "      <th>block_block_bio_backmerge</th>\n",
       "      <th>block_block_bio_bounce</th>\n",
       "      <th>block_block_bio_complete</th>\n",
       "      <th>...</th>\n",
       "      <th>writeback_writeback_wait_iff_congested</th>\n",
       "      <th>writeback_writeback_wake_background</th>\n",
       "      <th>writeback_writeback_write_inode</th>\n",
       "      <th>writeback_writeback_write_inode_start</th>\n",
       "      <th>writeback_writeback_written</th>\n",
       "      <th>Attack</th>\n",
       "      <th>Scenario</th>\n",
       "      <th>Label</th>\n",
       "      <th>interface</th>\n",
       "      <th>ChargingState_idle</th>\n",
       "    </tr>\n",
       "  </thead>\n",
       "  <tbody>\n",
       "    <tr>\n",
       "      <th>0</th>\n",
       "      <td>5.001477</td>\n",
       "      <td>0</td>\n",
       "      <td>0</td>\n",
       "      <td>0</td>\n",
       "      <td>0</td>\n",
       "      <td>0</td>\n",
       "      <td>693371795</td>\n",
       "      <td>0</td>\n",
       "      <td>0</td>\n",
       "      <td>0</td>\n",
       "      <td>...</td>\n",
       "      <td>0</td>\n",
       "      <td>0</td>\n",
       "      <td>0</td>\n",
       "      <td>0</td>\n",
       "      <td>0</td>\n",
       "      <td>2</td>\n",
       "      <td>1</td>\n",
       "      <td>1</td>\n",
       "      <td>0</td>\n",
       "      <td>False</td>\n",
       "    </tr>\n",
       "    <tr>\n",
       "      <th>1</th>\n",
       "      <td>5.001487</td>\n",
       "      <td>0</td>\n",
       "      <td>0</td>\n",
       "      <td>0</td>\n",
       "      <td>0</td>\n",
       "      <td>0</td>\n",
       "      <td>699964025</td>\n",
       "      <td>0</td>\n",
       "      <td>0</td>\n",
       "      <td>0</td>\n",
       "      <td>...</td>\n",
       "      <td>0</td>\n",
       "      <td>0</td>\n",
       "      <td>0</td>\n",
       "      <td>0</td>\n",
       "      <td>0</td>\n",
       "      <td>2</td>\n",
       "      <td>1</td>\n",
       "      <td>1</td>\n",
       "      <td>0</td>\n",
       "      <td>False</td>\n",
       "    </tr>\n",
       "    <tr>\n",
       "      <th>2</th>\n",
       "      <td>5.001641</td>\n",
       "      <td>0</td>\n",
       "      <td>0</td>\n",
       "      <td>0</td>\n",
       "      <td>0</td>\n",
       "      <td>0</td>\n",
       "      <td>549770341</td>\n",
       "      <td>0</td>\n",
       "      <td>0</td>\n",
       "      <td>0</td>\n",
       "      <td>...</td>\n",
       "      <td>0</td>\n",
       "      <td>0</td>\n",
       "      <td>0</td>\n",
       "      <td>0</td>\n",
       "      <td>0</td>\n",
       "      <td>2</td>\n",
       "      <td>1</td>\n",
       "      <td>1</td>\n",
       "      <td>0</td>\n",
       "      <td>False</td>\n",
       "    </tr>\n",
       "    <tr>\n",
       "      <th>3</th>\n",
       "      <td>5.003762</td>\n",
       "      <td>0</td>\n",
       "      <td>0</td>\n",
       "      <td>0</td>\n",
       "      <td>0</td>\n",
       "      <td>0</td>\n",
       "      <td>571970875</td>\n",
       "      <td>0</td>\n",
       "      <td>0</td>\n",
       "      <td>0</td>\n",
       "      <td>...</td>\n",
       "      <td>0</td>\n",
       "      <td>0</td>\n",
       "      <td>0</td>\n",
       "      <td>0</td>\n",
       "      <td>0</td>\n",
       "      <td>2</td>\n",
       "      <td>1</td>\n",
       "      <td>1</td>\n",
       "      <td>0</td>\n",
       "      <td>False</td>\n",
       "    </tr>\n",
       "    <tr>\n",
       "      <th>4</th>\n",
       "      <td>10.065740</td>\n",
       "      <td>0</td>\n",
       "      <td>0</td>\n",
       "      <td>0</td>\n",
       "      <td>0</td>\n",
       "      <td>0</td>\n",
       "      <td>553199786</td>\n",
       "      <td>0</td>\n",
       "      <td>0</td>\n",
       "      <td>0</td>\n",
       "      <td>...</td>\n",
       "      <td>0</td>\n",
       "      <td>0</td>\n",
       "      <td>0</td>\n",
       "      <td>0</td>\n",
       "      <td>0</td>\n",
       "      <td>2</td>\n",
       "      <td>1</td>\n",
       "      <td>1</td>\n",
       "      <td>0</td>\n",
       "      <td>False</td>\n",
       "    </tr>\n",
       "  </tbody>\n",
       "</table>\n",
       "<p>5 rows × 911 columns</p>\n",
       "</div>"
      ],
      "text/plain": [
       "        time  alarmtimer_alarmtimer_cancel  alarmtimer_alarmtimer_fired  \\\n",
       "0   5.001477                             0                            0   \n",
       "1   5.001487                             0                            0   \n",
       "2   5.001641                             0                            0   \n",
       "3   5.003762                             0                            0   \n",
       "4  10.065740                             0                            0   \n",
       "\n",
       "   alarmtimer_alarmtimer_start  alarmtimer_alarmtimer_suspend  \\\n",
       "0                            0                              0   \n",
       "1                            0                              0   \n",
       "2                            0                              0   \n",
       "3                            0                              0   \n",
       "4                            0                              0   \n",
       "\n",
       "   alignment-faults   ase_spec  block_block_bio_backmerge  \\\n",
       "0                 0  693371795                          0   \n",
       "1                 0  699964025                          0   \n",
       "2                 0  549770341                          0   \n",
       "3                 0  571970875                          0   \n",
       "4                 0  553199786                          0   \n",
       "\n",
       "   block_block_bio_bounce  block_block_bio_complete  ...  \\\n",
       "0                       0                         0  ...   \n",
       "1                       0                         0  ...   \n",
       "2                       0                         0  ...   \n",
       "3                       0                         0  ...   \n",
       "4                       0                         0  ...   \n",
       "\n",
       "   writeback_writeback_wait_iff_congested  \\\n",
       "0                                       0   \n",
       "1                                       0   \n",
       "2                                       0   \n",
       "3                                       0   \n",
       "4                                       0   \n",
       "\n",
       "   writeback_writeback_wake_background  writeback_writeback_write_inode  \\\n",
       "0                                    0                                0   \n",
       "1                                    0                                0   \n",
       "2                                    0                                0   \n",
       "3                                    0                                0   \n",
       "4                                    0                                0   \n",
       "\n",
       "   writeback_writeback_write_inode_start  writeback_writeback_written  Attack  \\\n",
       "0                                      0                            0       2   \n",
       "1                                      0                            0       2   \n",
       "2                                      0                            0       2   \n",
       "3                                      0                            0       2   \n",
       "4                                      0                            0       2   \n",
       "\n",
       "   Scenario  Label  interface  ChargingState_idle  \n",
       "0         1      1          0               False  \n",
       "1         1      1          0               False  \n",
       "2         1      1          0               False  \n",
       "3         1      1          0               False  \n",
       "4         1      1          0               False  \n",
       "\n",
       "[5 rows x 911 columns]"
      ]
     },
     "execution_count": 13,
     "metadata": {},
     "output_type": "execute_result"
    }
   ],
   "source": [
    "def one_hot_encode(data):\n",
    "    data = pd.get_dummies(data, columns=['ChargingState'], drop_first=True)\n",
    "    return data\n",
    "\n",
    "data = one_hot_encode(data)\n",
    "\n",
    "def label_encode(data):\n",
    "    for col in data.columns:\n",
    "        if col == \"Label\":\n",
    "            data[\"Label\"] = data[\"Label\"].map({'benign':0, 'attack':1})\n",
    "        elif data[col].dtype == \"object\" and col != \"ChargingState\":\n",
    "            data[col] = data[col].astype(str)\n",
    "            label_encoder = LabelEncoder()\n",
    "            data[col] = label_encoder.fit_transform(data[col])\n",
    "    return data\n",
    "\n",
    "data = label_encode(data)\n",
    "\n",
    "data.head()"
   ]
  },
  {
   "cell_type": "code",
   "execution_count": 14,
   "metadata": {
    "colab": {
     "base_uri": "https://localhost:8080/",
     "height": 273
    },
    "executionInfo": {
     "elapsed": 187,
     "status": "ok",
     "timestamp": 1731539078078,
     "user": {
      "displayName": "Bishal KC",
      "userId": "17083063275206021141"
     },
     "user_tz": -345
    },
    "id": "el9r0kWTA1zt",
    "outputId": "0a94db8a-2fda-4dea-bb5a-4dbc53c3eeb4"
   },
   "outputs": [],
   "source": [
    "# Select top 15 features using ANOVA F-score\n",
    "X = data.drop(columns=[\"Label\"])  \n",
    "y = data[\"Label\"]"
   ]
  },
  {
   "cell_type": "code",
   "execution_count": 15,
   "metadata": {
    "executionInfo": {
     "elapsed": 582,
     "status": "ok",
     "timestamp": 1731539079312,
     "user": {
      "displayName": "Bishal KC",
      "userId": "17083063275206021141"
     },
     "user_tz": -345
    },
    "id": "o_nRufMf-DDp"
   },
   "outputs": [],
   "source": [
    "scaler = StandardScaler()\n",
    "# X_selected = scaler.fit_transform(data_selected)\n",
    "X_selected = scaler.fit_transform(X)\n",
    "\n",
    "# X_data = data.drop('Label', axis=1)\n",
    "y_selected = data['Label']"
   ]
  },
  {
   "cell_type": "code",
   "execution_count": 16,
   "metadata": {
    "executionInfo": {
     "elapsed": 138,
     "status": "ok",
     "timestamp": 1731539079858,
     "user": {
      "displayName": "Bishal KC",
      "userId": "17083063275206021141"
     },
     "user_tz": -345
    },
    "id": "kGGDrX1lDK78"
   },
   "outputs": [],
   "source": [
    "\n",
    "smote = SMOTE(sampling_strategy='auto', random_state=42)\n",
    "X_balanced, y_balanced = smote.fit_resample(X_selected, y_selected)\n"
   ]
  },
  {
   "cell_type": "code",
   "execution_count": 17,
   "metadata": {
    "executionInfo": {
     "elapsed": 230,
     "status": "ok",
     "timestamp": 1731539080737,
     "user": {
      "displayName": "Bishal KC",
      "userId": "17083063275206021141"
     },
     "user_tz": -345
    },
    "id": "RiJE3YDh-1fc"
   },
   "outputs": [],
   "source": [
    "# rfc = RandomForestClassifier()\n",
    "\n",
    "# rfe = RFE(rfc, n_features_to_select=20)\n",
    "# rfe = rfe.fit(X_data, Y_data)\n",
    "\n",
    "# feature_map = [(i,v) for i,v in itertools.zip_longest(rfe.get_support(),X_data)]\n",
    "# selected_features = [v for i,v in feature_map if i==True]\n",
    "\n",
    "# selected_features\n",
    "\n",
    "# X_data[selected_features]"
   ]
  },
  {
   "cell_type": "code",
   "execution_count": 18,
   "metadata": {
    "executionInfo": {
     "elapsed": 171,
     "status": "ok",
     "timestamp": 1731539081524,
     "user": {
      "displayName": "Bishal KC",
      "userId": "17083063275206021141"
     },
     "user_tz": -345
    },
    "id": "LnwQOvlmDK78"
   },
   "outputs": [],
   "source": [
    "# Data Split\n",
    "X_train, X_test, Y_train, Y_test = train_test_split(X_balanced, y_balanced, test_size=0.2, random_state=42)\n"
   ]
  },
  {
   "cell_type": "code",
   "execution_count": 19,
   "metadata": {
    "executionInfo": {
     "elapsed": 131,
     "status": "ok",
     "timestamp": 1731539082339,
     "user": {
      "displayName": "Bishal KC",
      "userId": "17083063275206021141"
     },
     "user_tz": -345
    },
    "id": "HX1GBx3Y--bD"
   },
   "outputs": [],
   "source": [
    "def plot_confusion_matrix(cm, classes, title, normalize = False, cmap = plt.cm.Blues):\n",
    "    title = 'Confusion Matrix of {}'.format(title)\n",
    "    if normalize:\n",
    "        cm = cm.astype(float) / cm.sum(axis=1)[:, np.newaxis]\n",
    "\n",
    "    plt.imshow(cm, interpolation = 'nearest', cmap = cmap)\n",
    "    plt.title(title, fontsize=15)\n",
    "    plt.colorbar()\n",
    "    tick_marks = np.arange(len(classes))\n",
    "    plt.xticks(tick_marks, classes, rotation = 45, fontsize=13)\n",
    "    plt.yticks(tick_marks, classes, fontsize=13)\n",
    "\n",
    "    fmt = '.2f' if normalize else 'd'\n",
    "    thresh = cm.max() / 2.\n",
    "    for i, j in itertools.product(range(cm.shape[0]), range(cm.shape[1])):\n",
    "        plt.text(j, i, format(cm[i, j], fmt),\n",
    "                 horizontalalignment = 'center',\n",
    "                 color = 'white' if cm[i, j] > thresh else 'black')\n",
    "\n",
    "    plt.tight_layout()\n",
    "    plt.ylabel('True label',  fontsize=14)\n",
    "    plt.xlabel('Predicted label', fontsize=14)\n",
    "\n",
    "# Plot the confusion matrix\n",
    "\n",
    "plt.rcParams['figure.figsize'] = (6, 6)"
   ]
  },
  {
   "cell_type": "code",
   "execution_count": 20,
   "metadata": {
    "colab": {
     "base_uri": "https://localhost:8080/"
    },
    "executionInfo": {
     "elapsed": 585,
     "status": "ok",
     "timestamp": 1731539083583,
     "user": {
      "displayName": "Bishal KC",
      "userId": "17083063275206021141"
     },
     "user_tz": -345
    },
    "id": "pJENmLPjDK79",
    "outputId": "7f355ff6-dbe7-4036-b196-0db2ddb0623b"
   },
   "outputs": [
    {
     "name": "stdout",
     "output_type": "stream",
     "text": [
      "Training Score: 0.9272776426061098\n",
      "Test Score: 0.9132432432432432\n"
     ]
    }
   ],
   "source": [
    "#Logistic Regression\n",
    "\n",
    "lr_model = LogisticRegression(penalty=\"l2\", C=0.1, solver=\"liblinear\", random_state = 42)\n",
    "lr_model.fit(X_train,Y_train)\n",
    "\n",
    "lr_yhat = lr_model.predict(X_test)\n",
    "\n",
    "# Calculate accuracy score\n",
    "lr_accuracy = accuracy_score(Y_test, lr_yhat)\n",
    "\n",
    "# Calculate precision score\n",
    "lr_precision = precision_score(Y_test, lr_yhat)\n",
    "\n",
    "# Calculate recall score\n",
    "lr_recall = recall_score(Y_test, lr_yhat)\n",
    "\n",
    "# Calculate F1 score\n",
    "lr_f1 = f1_score(Y_test, lr_yhat)\n",
    "\n",
    "lr_train, lr_test = lr_model.score(X_train, Y_train), lr_model.score(X_test,Y_test)\n",
    "\n",
    "print(f\"Training Score: {lr_train}\")\n",
    "print(f\"Test Score: {lr_test}\")"
   ]
  },
  {
   "cell_type": "code",
   "execution_count": 21,
   "metadata": {
    "colab": {
     "base_uri": "https://localhost:8080/",
     "height": 596
    },
    "executionInfo": {
     "elapsed": 415,
     "status": "ok",
     "timestamp": 1731539084323,
     "user": {
      "displayName": "Bishal KC",
      "userId": "17083063275206021141"
     },
     "user_tz": -345
    },
    "id": "L50Kr90iDK79",
    "outputId": "b46f7373-74a7-43c9-cb21-ed617618402f"
   },
   "outputs": [
    {
     "data": {
      "image/png": "[encoded data removed]",
      "text/plain": [
       "<Figure size 600x600 with 2 Axes>"
      ]
     },
     "metadata": {},
     "output_type": "display_data"
    }
   ],
   "source": [
    "#  Logistic regression\n",
    "\n",
    "lr_cm_plot = plot_confusion_matrix(confusion_matrix(Y_test, lr_yhat, labels = [0, 1]),\n",
    "                                classes = ['Benign(0)','Attack(1)'],\n",
    "                                normalize = False, title = 'Logistic Regression')\n",
    "plt.show()"
   ]
  },
  {
   "cell_type": "code",
   "execution_count": 22,
   "metadata": {
    "colab": {
     "base_uri": "https://localhost:8080/",
     "height": 564
    },
    "executionInfo": {
     "elapsed": 307,
     "status": "ok",
     "timestamp": 1731539085023,
     "user": {
      "displayName": "Bishal KC",
      "userId": "17083063275206021141"
     },
     "user_tz": -345
    },
    "id": "SmEAUUkdDK79",
    "outputId": "4cf083f1-5e9b-46d3-dd36-72a2a8ac7674"
   },
   "outputs": [
    {
     "data": {
      "image/png": "[encoded data removed]",
      "text/plain": [
       "<Figure size 600x600 with 1 Axes>"
      ]
     },
     "metadata": {},
     "output_type": "display_data"
    }
   ],
   "source": [
    "labels = ['Training', 'Test']\n",
    "lr_train = int(lr_train * 1000) / 1000\n",
    "lr_test = int(lr_test * 1000) / 1000\n",
    "\n",
    "accuracy_scores = [lr_train, lr_test]\n",
    "\n",
    "plt.bar(labels, accuracy_scores)\n",
    "plt.xlabel('Dataset')\n",
    "plt.ylabel('Accuracy Score')\n",
    "plt.title('Logistic Regression Model Accuracy')\n",
    "\n",
    "for i, v in enumerate(accuracy_scores):\n",
    "    plt.text(i, v, f'{v:.3f}', ha='center', va='bottom', fontsize=12, color=\"red\", fontweight=\"bold\")\n",
    "\n",
    "\n",
    "plt.show()\n"
   ]
  },
  {
   "cell_type": "code",
   "execution_count": 23,
   "metadata": {
    "executionInfo": {
     "elapsed": 219,
     "status": "ok",
     "timestamp": 1731539085892,
     "user": {
      "displayName": "Bishal KC",
      "userId": "17083063275206021141"
     },
     "user_tz": -345
    },
    "id": "S7ecNJYlDK79"
   },
   "outputs": [],
   "source": [
    "# !pip install optuna\n",
    "import optuna\n",
    "optuna.logging.set_verbosity(optuna.logging.WARNING)"
   ]
  },
  {
   "cell_type": "code",
   "execution_count": 24,
   "metadata": {
    "executionInfo": {
     "elapsed": 821,
     "status": "ok",
     "timestamp": 1731539165161,
     "user": {
      "displayName": "Bishal KC",
      "userId": "17083063275206021141"
     },
     "user_tz": -345
    },
    "id": "66ej9r5GDK79"
   },
   "outputs": [],
   "source": [
    "def objective(trial):\n",
    "    # Suggest a value for 'n_neighbors' within a range that could help reduce overfitting.\n",
    "    n_neighbors = trial.suggest_int('KNN_n_neighbors', low=3, high=15)  # increase the upper bound\n",
    "    \n",
    "    # Create a KNN classifier model with a pipeline that includes scaling\n",
    "    classifier_obj = make_pipeline(\n",
    "        StandardScaler(),  # Ensure the features are scaled\n",
    "        KNeighborsClassifier(n_neighbors=n_neighbors)\n",
    "    )\n",
    "    \n",
    "    # Perform cross-validation to get a more reliable estimate of the accuracy.\n",
    "    # We'll use cross-validation with 5 folds (you can adjust this as needed).\n",
    "    accuracy = cross_val_score(classifier_obj, X_train, Y_train, cv=5, scoring='accuracy').mean()\n",
    "\n",
    "    # Return the accuracy as the objective value to maximize\n",
    "    return accuracy\n",
    "\n",
    "# Create an Optuna study with the objective to maximize accuracy.\n",
    "study_KNN = optuna.create_study()\n",
    "\n",
    "# Run the optimization process with a reasonable number of trials (e.g., 20).\n",
    "study_KNN.optimize(objective, n_trials=20)"
   ]
  },
  {
   "cell_type": "code",
   "execution_count": 25,
   "metadata": {
    "colab": {
     "base_uri": "https://localhost:8080/"
    },
    "executionInfo": {
     "elapsed": 7997,
     "status": "ok",
     "timestamp": 1731539174329,
     "user": {
      "displayName": "Bishal KC",
      "userId": "17083063275206021141"
     },
     "user_tz": -345
    },
    "id": "WtPdeBAuDK79",
    "outputId": "ff44a940-453b-429e-f1ad-dc70bb5a983a"
   },
   "outputs": [
    {
     "name": "stdout",
     "output_type": "stream",
     "text": [
      "Training Score: 0.8746958637469586\n",
      "Test Score: 0.8764864864864865\n"
     ]
    }
   ],
   "source": [
    "KNN_model = KNeighborsClassifier(n_neighbors=study_KNN.best_trial.params['KNN_n_neighbors'])\n",
    "KNN_model.fit(X_train,Y_train)\n",
    "\n",
    "knn_yhat = KNN_model.predict(X_test)\n",
    "\n",
    "# Calculate accuracy score\n",
    "knn_accuracy = accuracy_score(Y_test, knn_yhat)\n",
    "\n",
    "# Calculate precision score\n",
    "knn_precision = precision_score(Y_test, knn_yhat)\n",
    "\n",
    "# Calculate recall score\n",
    "knn_recall = recall_score(Y_test, knn_yhat)\n",
    "\n",
    "# Calculate F1 score\n",
    "knn_f1 = f1_score(Y_test, knn_yhat)\n",
    "\n",
    "KNN_train, KNN_test = KNN_model.score(X_train, Y_train), KNN_model.score(X_test,Y_test)\n",
    "\n",
    "print(f\"Training Score: {KNN_train}\")\n",
    "print(f\"Test Score: {KNN_test}\")"
   ]
  },
  {
   "cell_type": "code",
   "execution_count": 26,
   "metadata": {
    "colab": {
     "base_uri": "https://localhost:8080/",
     "height": 487
    },
    "executionInfo": {
     "elapsed": 196,
     "status": "ok",
     "timestamp": 1731539093105,
     "user": {
      "displayName": "Bishal KC",
      "userId": "17083063275206021141"
     },
     "user_tz": -345
    },
    "id": "pMiUnQs6DK79",
    "outputId": "765561bd-7fc8-47cb-b824-9c2d8ccc3349"
   },
   "outputs": [
    {
     "data": {
      "image/png": "[encoded data removed]",
      "text/plain": [
       "<Figure size 1200x500 with 1 Axes>"
      ]
     },
     "metadata": {},
     "output_type": "display_data"
    }
   ],
   "source": [
    "knn_trial_numbers = list(range(len(study_KNN.trials)))\n",
    "knn_accuracy_scores = [trial.value for trial in study_KNN.trials]\n",
    "\n",
    "# Create two line plots to visualize the optimization process for KNN and Decision Tree\n",
    "plt.figure(figsize=(12, 5))\n",
    "\n",
    "plt.subplot(1, 2, 1)\n",
    "plt.plot(knn_trial_numbers, knn_accuracy_scores, marker='o')\n",
    "plt.xlabel('Trial Number')\n",
    "plt.ylabel('Accuracy Score')\n",
    "plt.title('KNN Hyperparameter Optimization')\n",
    "plt.grid(True)"
   ]
  },
  {
   "cell_type": "code",
   "execution_count": 27,
   "metadata": {
    "colab": {
     "base_uri": "https://localhost:8080/",
     "height": 594
    },
    "executionInfo": {
     "elapsed": 376,
     "status": "ok",
     "timestamp": 1731539094495,
     "user": {
      "displayName": "Bishal KC",
      "userId": "17083063275206021141"
     },
     "user_tz": -345
    },
    "id": "ZjZzTr9xDK79",
    "outputId": "c787e91d-f311-44f9-b022-a712e20ea336"
   },
   "outputs": [
    {
     "data": {
      "image/png": "[encoded data removed]",
      "text/plain": [
       "<Figure size 600x600 with 2 Axes>"
      ]
     },
     "metadata": {},
     "output_type": "display_data"
    }
   ],
   "source": [
    "# K-Nearest Neighbors\n",
    "\n",
    "knn_cm_plot = plot_confusion_matrix(confusion_matrix(Y_test, knn_yhat, labels = [0, 1]),\n",
    "                                classes = ['Benign(0)','Attack(1)'],\n",
    "                                normalize = False, title = 'KNN')\n",
    "plt.show()"
   ]
  },
  {
   "cell_type": "code",
   "execution_count": 28,
   "metadata": {
    "colab": {
     "base_uri": "https://localhost:8080/",
     "height": 564
    },
    "executionInfo": {
     "elapsed": 349,
     "status": "ok",
     "timestamp": 1731539095590,
     "user": {
      "displayName": "Bishal KC",
      "userId": "17083063275206021141"
     },
     "user_tz": -345
    },
    "id": "BhDiRGaLDK79",
    "outputId": "8141fd32-294d-4a9b-c2e8-b42bf433424d"
   },
   "outputs": [
    {
     "data": {
      "image/png": "[encoded data removed]",
      "text/plain": [
       "<Figure size 600x600 with 1 Axes>"
      ]
     },
     "metadata": {},
     "output_type": "display_data"
    }
   ],
   "source": [
    "labels = ['Training', 'Test']\n",
    "KNN_train = int(KNN_train * 1000) / 1000\n",
    "KNN_test = int(KNN_test * 1000) / 1000\n",
    "\n",
    "accuracy_scores = [KNN_train, KNN_test]\n",
    "\n",
    "plt.bar(labels, accuracy_scores)\n",
    "plt.xlabel('Dataset')\n",
    "plt.ylabel('Accuracy Score')\n",
    "plt.title('KNN Model Accuracy')\n",
    "\n",
    "for i, v in enumerate(accuracy_scores):\n",
    "    plt.text(i, v, f'{v:.3f}', ha='center', va='bottom', fontsize=12, color=\"red\", fontweight='bold')\n",
    "\n",
    "plt.show()"
   ]
  },
  {
   "cell_type": "code",
   "execution_count": 29,
   "metadata": {
    "executionInfo": {
     "elapsed": 1043,
     "status": "ok",
     "timestamp": 1731539097520,
     "user": {
      "displayName": "Bishal KC",
      "userId": "17083063275206021141"
     },
     "user_tz": -345
    },
    "id": "I3s8JrnzDK7-"
   },
   "outputs": [],
   "source": [
    "#Decision Tree Classifier\n",
    "\n",
    "def objective(trial):\n",
    "  dt_max_depth = trial.suggest_int('dt_max_depth',2,18,log=False)\n",
    "  dt_max_features = trial.suggest_int('dt_max_features',3,8,log=False)\n",
    "  classifier_obj = DecisionTreeClassifier(max_features = dt_max_features, max_depth = dt_max_depth)\n",
    "  classifier_obj.fit(X_train,Y_train)\n",
    "  accuracy = classifier_obj.score(X_test,Y_test)\n",
    "  return accuracy\n",
    "\n",
    "study_dt = optuna.create_study(direction=\"maximize\")\n",
    "study_dt.optimize(objective,n_trials=30)"
   ]
  },
  {
   "cell_type": "code",
   "execution_count": 30,
   "metadata": {
    "colab": {
     "base_uri": "https://localhost:8080/"
    },
    "executionInfo": {
     "elapsed": 150,
     "status": "ok",
     "timestamp": 1731539097791,
     "user": {
      "displayName": "Bishal KC",
      "userId": "17083063275206021141"
     },
     "user_tz": -345
    },
    "id": "Oqj02y1yDK7-",
    "outputId": "0dbe031c-ae36-4e8d-c064-a92037525011"
   },
   "outputs": [
    {
     "name": "stdout",
     "output_type": "stream",
     "text": [
      "Training Score: 0.9238983509056502\n",
      "Test Score: 0.8770270270270271\n"
     ]
    }
   ],
   "source": [
    "dt_model = DecisionTreeClassifier(max_features = study_dt.best_trial.params['dt_max_features'], max_depth = study_dt.best_trial.params['dt_max_depth'])\n",
    "dt_model.fit(X_train, Y_train)\n",
    "\n",
    "dt_yhat = dt_model.predict(X_test)\n",
    "\n",
    "# Calculate accuracy score\n",
    "dt_accuracy = accuracy_score(Y_test, dt_yhat)\n",
    "\n",
    "# Calculate precision score\n",
    "dt_precision = precision_score(Y_test, dt_yhat)\n",
    "\n",
    "# Calculate recall score\n",
    "dt_recall = recall_score(Y_test, dt_yhat)\n",
    "\n",
    "# Calculate F1 score\n",
    "dt_f1 = f1_score(Y_test, dt_yhat)\n",
    "\n",
    "dt_train, dt_test = dt_model.score(X_train,Y_train), dt_model.score(X_test,Y_test)\n",
    "\n",
    "print(f\"Training Score: {dt_train}\")\n",
    "print(f\"Test Score: {dt_test}\")"
   ]
  },
  {
   "cell_type": "code",
   "execution_count": 31,
   "metadata": {
    "colab": {
     "base_uri": "https://localhost:8080/",
     "height": 564
    },
    "executionInfo": {
     "elapsed": 353,
     "status": "ok",
     "timestamp": 1731539099121,
     "user": {
      "displayName": "Bishal KC",
      "userId": "17083063275206021141"
     },
     "user_tz": -345
    },
    "id": "L3aGe5snDK7-",
    "outputId": "364f332b-e2e1-47dd-8c7d-064c39c9af17"
   },
   "outputs": [
    {
     "data": {
      "image/png": "[encoded data removed]",
      "text/plain": [
       "<Figure size 600x600 with 1 Axes>"
      ]
     },
     "metadata": {},
     "output_type": "display_data"
    }
   ],
   "source": [
    "trial_numbers = list(range(len(study_dt.trials)))\n",
    "accuracy_scores = [trial.value for trial in study_dt.trials]\n",
    "\n",
    "# Create a line plot to visualize the optimization process\n",
    "plt.plot(trial_numbers, accuracy_scores, marker='o')\n",
    "plt.xlabel('Trial Number')\n",
    "plt.ylabel('Accuracy Score')\n",
    "plt.title('Decision Tree Hyperparameter Optimization')\n",
    "plt.grid(True)\n",
    "\n",
    "plt.show()"
   ]
  },
  {
   "cell_type": "code",
   "execution_count": 32,
   "metadata": {
    "colab": {
     "base_uri": "https://localhost:8080/",
     "height": 594
    },
    "executionInfo": {
     "elapsed": 348,
     "status": "ok",
     "timestamp": 1731539100506,
     "user": {
      "displayName": "Bishal KC",
      "userId": "17083063275206021141"
     },
     "user_tz": -345
    },
    "id": "eOUjJP5rDK7-",
    "outputId": "a061ff21-83ec-4607-924b-f77a8d1858a5"
   },
   "outputs": [
    {
     "data": {
      "image/png": "[encoded data removed]",
      "text/plain": [
       "<Figure size 600x600 with 2 Axes>"
      ]
     },
     "metadata": {},
     "output_type": "display_data"
    }
   ],
   "source": [
    "# Decision tree\n",
    "\n",
    "tree_cm_plot = plot_confusion_matrix(confusion_matrix(Y_test, dt_yhat, labels = [0, 1]),\n",
    "                                classes = ['Benign(0)','Attack(1)'],\n",
    "                                normalize = False, title = 'Decision Tree')\n",
    "\n",
    "plt.show()"
   ]
  },
  {
   "cell_type": "code",
   "execution_count": 33,
   "metadata": {
    "colab": {
     "base_uri": "https://localhost:8080/",
     "height": 564
    },
    "executionInfo": {
     "elapsed": 382,
     "status": "ok",
     "timestamp": 1731539101577,
     "user": {
      "displayName": "Bishal KC",
      "userId": "17083063275206021141"
     },
     "user_tz": -345
    },
    "id": "-gTtj9Q1DK7-",
    "outputId": "6d1c591f-7568-470d-936f-9b4f877c430b"
   },
   "outputs": [
    {
     "data": {
      "image/png": "[encoded data removed]",
      "text/plain": [
       "<Figure size 600x600 with 1 Axes>"
      ]
     },
     "metadata": {},
     "output_type": "display_data"
    }
   ],
   "source": [
    "labels = ['Training', 'Test']\n",
    "dt_train = int(dt_train * 1000) / 1000\n",
    "dt_test = int(dt_test * 1000) / 1000\n",
    "\n",
    "accuracy_scores = [dt_train, dt_test]\n",
    "\n",
    "plt.bar(labels, accuracy_scores)\n",
    "plt.xlabel('Dataset')\n",
    "plt.ylabel('Accuracy Score')\n",
    "plt.title('Decision Tree Model Accuracy')\n",
    "\n",
    "for i, v in enumerate(accuracy_scores):\n",
    "    plt.text(i, v, f'{v:.3f}', ha='center', va='bottom', fontsize=12, color=\"red\", fontweight='bold')\n",
    "\n",
    "plt.show()"
   ]
  },
  {
   "cell_type": "code",
   "execution_count": 29,
   "metadata": {
    "colab": {
     "base_uri": "https://localhost:8080/"
    },
    "executionInfo": {
     "elapsed": 9175,
     "status": "ok",
     "timestamp": 1731539111479,
     "user": {
      "displayName": "Bishal KC",
      "userId": "17083063275206021141"
     },
     "user_tz": -345
    },
    "id": "0dpCbgBfVKlu",
    "outputId": "3a43b773-6790-4f57-81c1-6bb9cb191ea8"
   },
   "outputs": [
    {
     "name": "stdout",
     "output_type": "stream",
     "text": [
      "Training Score: 0.936198972695323\n",
      "Test Score: 0.9267567567567567\n"
     ]
    }
   ],
   "source": [
    "# Support Vector Machine\n",
    "\n",
    "SVM_model = SVC(kernel='rbf', class_weight='balanced', C=0.12, random_state=42)\n",
    "SVM_model.fit(X_train, Y_train)\n",
    "\n",
    "svm_yhat = SVM_model.predict(X_test)\n",
    "\n",
    "# Calculate accuracy score\n",
    "svm_accuracy = accuracy_score(Y_test, svm_yhat)\n",
    "\n",
    "# Calculate precision score\n",
    "svm_precision = precision_score(Y_test, svm_yhat)\n",
    "\n",
    "# Calculate recall score\n",
    "svm_recall = recall_score(Y_test, svm_yhat)\n",
    "\n",
    "# Calculate F1 score\n",
    "svm_f1 = f1_score(Y_test, svm_yhat)\n",
    "\n",
    "svm_train, svm_test = SVM_model.score(X_train, Y_train), SVM_model.score(X_test,Y_test)\n",
    "\n",
    "print(f\"Training Score: {svm_train}\")\n",
    "print(f\"Test Score: {svm_test}\")"
   ]
  },
  {
   "cell_type": "code",
   "execution_count": 30,
   "metadata": {
    "colab": {
     "base_uri": "https://localhost:8080/",
     "height": 594
    },
    "executionInfo": {
     "elapsed": 405,
     "status": "ok",
     "timestamp": 1731539113373,
     "user": {
      "displayName": "Bishal KC",
      "userId": "17083063275206021141"
     },
     "user_tz": -345
    },
    "id": "oarBwrfUZ7m4",
    "outputId": "3f2754ff-2cb9-48fb-f9cb-44bc464111d3"
   },
   "outputs": [
    {
     "data": {
      "image/png": "[encoded data removed]",
      "text/plain": [
       "<Figure size 600x600 with 2 Axes>"
      ]
     },
     "metadata": {},
     "output_type": "display_data"
    }
   ],
   "source": [
    "#  Support Vector Machine\n",
    "\n",
    "lr_cm_plot = plot_confusion_matrix(confusion_matrix(Y_test, svm_yhat, labels = [0, 1]),\n",
    "                                classes = ['Benign(0)','Attack(1)'],\n",
    "                                normalize = False, title = 'SVM')\n",
    "plt.show()"
   ]
  },
  {
   "cell_type": "code",
   "execution_count": 31,
   "metadata": {
    "colab": {
     "base_uri": "https://localhost:8080/",
     "height": 564
    },
    "executionInfo": {
     "elapsed": 367,
     "status": "ok",
     "timestamp": 1731539114743,
     "user": {
      "displayName": "Bishal KC",
      "userId": "17083063275206021141"
     },
     "user_tz": -345
    },
    "id": "KWr-DdLyaKJr",
    "outputId": "3581111c-84d4-4f61-b115-4cd905a44b95"
   },
   "outputs": [
    {
     "data": {
      "image/png": "[encoded data removed]",
      "text/plain": [
       "<Figure size 600x600 with 1 Axes>"
      ]
     },
     "metadata": {},
     "output_type": "display_data"
    }
   ],
   "source": [
    "labels = ['Training', 'Test']\n",
    "svm_train = int(svm_train * 1000) / 1000\n",
    "svm_test = int(svm_test * 1000) / 1000\n",
    "\n",
    "accuracy_scores = [svm_train, svm_test]\n",
    "\n",
    "plt.bar(labels, accuracy_scores)\n",
    "plt.xlabel('Dataset')\n",
    "plt.ylabel('Accuracy Score')\n",
    "plt.title('Support Vector Machine Model Accuracy')\n",
    "\n",
    "for i, v in enumerate(accuracy_scores):\n",
    "    plt.text(i, v, f'{v:.3f}', ha='center', va='bottom', fontsize=12, color=\"red\", fontweight='bold')\n",
    "\n",
    "plt.show()"
   ]
  },
  {
   "cell_type": "code",
   "execution_count": null,
   "metadata": {
    "colab": {
     "base_uri": "https://localhost:8080/"
    },
    "executionInfo": {
     "elapsed": 122,
     "status": "ok",
     "timestamp": 1731539205629,
     "user": {
      "displayName": "Bishal KC",
      "userId": "17083063275206021141"
     },
     "user_tz": -345
    },
    "id": "YLSpyedhorTr",
    "outputId": "38068d19-bc98-4eb9-dacb-354dd7af2784"
   },
   "outputs": [
    {
     "name": "stdout",
     "output_type": "stream",
     "text": [
      "╒═════════════════════╤═════════════╤══════════╤════════════╤════════════╕\n",
      "│ Model               │   Precision │   Recall │   F1 Score │   Accuracy │\n",
      "╞═════════════════════╪═════════════╪══════════╪════════════╪════════════╡\n",
      "│ Logistic Regression │       91.72 │    90.77 │      91.24 │      91.32 │\n",
      "├─────────────────────┼─────────────┼──────────┼────────────┼────────────┤\n",
      "│ KNN                 │       99.22 │    75.79 │      85.93 │      87.65 │\n",
      "├─────────────────────┼─────────────┼──────────┼────────────┼────────────┤\n",
      "│ Decision Tree       │       90.02 │    84.69 │      87.27 │      87.7  │\n",
      "├─────────────────────┼─────────────┼──────────┼────────────┼────────────┤\n",
      "│ SVM                 │       91.94 │    93.49 │      92.71 │      92.68 │\n",
      "╘═════════════════════╧═════════════╧══════════╧════════════╧════════════╛\n"
     ]
    }
   ],
   "source": [
    "data = [['Logistic Regression', lr_precision,lr_recall, lr_f1, lr_accuracy],\n",
    "        [\"KNN\", knn_precision, knn_recall, knn_f1, knn_accuracy],\n",
    "        ['Decision Tree', dt_precision, dt_recall, dt_f1 , dt_accuracy],\n",
    "        ['SVM', svm_precision, svm_recall, svm_f1, svm_accuracy]]\n",
    "\n",
    "col_names = [\"Model\", \"Precision\", \"Recall\", \"F1 Score\", \"Accuracy\"]\n",
    "print(tabulate(data, headers=col_names, tablefmt=\"fancy_grid\"))"
   ]
  },
  {
   "cell_type": "code",
   "execution_count": null,
   "metadata": {},
   "outputs": [],
   "source": []
  }
 ],
 "metadata": {
  "colab": {
   "provenance": []
  },
  "kernelspec": {
   "display_name": "Python (tf)",
   "language": "python",
   "name": "tf"
  },
  "language_info": {
   "codemirror_mode": {
    "name": "ipython",
    "version": 3
   },
   "file_extension": ".py",
   "mimetype": "text/x-python",
   "name": "python",
   "nbconvert_exporter": "python",
   "pygments_lexer": "ipython3",
   "version": "3.9.18"
  }
 },
 "nbformat": 4,
 "nbformat_minor": 4
}
